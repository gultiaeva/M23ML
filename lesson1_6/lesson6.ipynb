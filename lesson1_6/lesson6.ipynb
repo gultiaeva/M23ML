{
 "cells": [
  {
   "metadata": {},
   "cell_type": "markdown",
   "source": "### Функции потерь",
   "id": "8b33e9ef"
  },
  {
   "metadata": {},
   "cell_type": "code",
   "execution_count": null,
   "source": "",
   "id": "e61ef081",
   "outputs": []
  },
  {
   "metadata": {},
   "cell_type": "code",
   "execution_count": 51,
   "source": "from sklearn.metrics import log_loss, hinge_loss, zero_one_loss",
   "id": "dfdf52f3",
   "outputs": []
  },
  {
   "metadata": {},
   "cell_type": "markdown",
   "source": [
    "Hinge Loss\n",
    "$$ max(0, 1 - y \\cdot \\hat{y}) $$"
   ],
   "id": "20f3ada6"
  },
  {
   "metadata": {},
   "cell_type": "markdown",
   "source": [
    "Logistic Loss \n",
    "$$ -\\sum_{c=1}^My_{o,c}\\log(p_{o,c}) $$"
   ],
   "id": "2864d673"
  },
  {
   "metadata": {},
   "cell_type": "markdown",
   "source": [
    "0-1 Loss\n",
    "$$ -\\sum_{c=1}^{M-1} 1 [y_i \\neq \\hat{y}_i]$$"
   ],
   "id": "26fe3209"
  },
  {
   "metadata": {},
   "cell_type": "code",
   "execution_count": 375,
   "source": "from tqdm.notebook import tqdm",
   "id": "bc150ed0",
   "outputs": []
  },
  {
   "metadata": {},
   "cell_type": "code",
   "execution_count": 376,
   "source": [
    "x = list(range(1, 121, 2))\n",
    "ll_train = []\n",
    "ll_test = []\n",
    "hl_train = []\n",
    "hl_test = []\n",
    "zol_train = []\n",
    "zol_test = []\n",
    "\n",
    "for n_neighbors in tqdm(x):\n",
    "    pipe = Pipeline([\n",
    "        ('scale', StandardScaler()),\n",
    "        ('clf', KNeighborsClassifier(n_neighbors=n_neighbors, weights='uniform', p=2))\n",
    "    ])\n",
    "    \n",
    "    pipe.fit(X_train, y_train)\n",
    "    preds_train = pipe.predict(X_train)\n",
    "    preds_test = pipe.predict(X_test)\n",
    "    probas_train = pipe.predict_proba(X_train)\n",
    "    probas_test = pipe.predict_proba(X_test)\n",
    "    \n",
    "    zerooneloss = zero_one_loss(y_train, preds_train)\n",
    "    zol_train.append(zerooneloss)\n",
    "    zerooneloss = zero_one_loss(y_test, preds_test)\n",
    "    zol_test.append(zerooneloss)\n",
    "    \n",
    "    hingeloss = hinge_loss(y_train, probas_train)\n",
    "    hl_train.append(hingeloss)\n",
    "    hingeloss = hinge_loss(y_test, probas_test)\n",
    "    hl_test.append(hingeloss)\n",
    "    \n",
    "    logloss = log_loss(y_train, probas_train)\n",
    "    ll_train.append(logloss)\n",
    "    logloss = log_loss(y_test, probas_test)\n",
    "    ll_test.append(logloss)\n",
    "    "
   ],
   "id": "d9cc7140",
   "outputs": []
  },
  {
   "metadata": {},
   "cell_type": "code",
   "execution_count": 380,
   "source": [
    "# plt.plot(x, ll_train, label='[TRAIN] Log Loss')\n",
    "plt.plot(x, hl_train, label='[TRAIN] Hinge Loss')\n",
    "# plt.plot(x, zol_train, label='[TRAIN] 0-1 Loss')\n",
    "# plt.plot(x, ll_test, label='[TEST] Log Loss')\n",
    "plt.plot(x, hl_test, label='[TEST] Hinge Loss')\n",
    "# plt.plot(x, zol_test, label='[TEST] 0-1 Loss')\n",
    "plt.legend()"
   ],
   "id": "94eecbc9",
   "outputs": []
  },
  {
   "metadata": {},
   "cell_type": "markdown",
   "source": "### ECOC (Error-Correcting Output Coding) Design",
   "id": "21fe4aa2"
  },
  {
   "metadata": {},
   "cell_type": "code",
   "execution_count": 381,
   "source": [
    "from sklearn.multiclass import OneVsOneClassifier, OneVsRestClassifier, OutputCodeClassifier\n",
    "from sklearn.linear_model import LogisticRegression"
   ],
   "id": "6e197713",
   "outputs": []
  },
  {
   "metadata": {},
   "cell_type": "code",
   "execution_count": 406,
   "source": [
    "X, y = make_classification(n_samples=10000, n_features=2, n_informative=2, n_redundant=0, n_classes=3,\n",
    "                           n_clusters_per_class=1, shift=4.77, scale=3.92, class_sep=2, random_state=42, )\n",
    "\n",
    "X_train, X_test, y_train, y_test = train_test_split(X, y, stratify=y, shuffle=True, test_size=0.3, \n",
    "                                                    random_state=42, )"
   ],
   "id": "a88992d4",
   "outputs": []
  },
  {
   "metadata": {},
   "cell_type": "code",
   "execution_count": 407,
   "source": "sns.scatterplot(x=X[:, 0], y=X[:, 1], hue=y)",
   "id": "9999b4b4",
   "outputs": []
  },
  {
   "metadata": {},
   "cell_type": "code",
   "execution_count": 408,
   "source": [
    "pipe = Pipeline([\n",
    "    ('scale', StandardScaler()),\n",
    "    ('clf', OneVsOneClassifier(LogisticRegression()))\n",
    "])"
   ],
   "id": "85fa1a23",
   "outputs": []
  },
  {
   "metadata": {},
   "cell_type": "code",
   "execution_count": 409,
   "source": "pipe.fit(X_train, y_train)",
   "id": "e13fc588",
   "outputs": []
  },
  {
   "metadata": {},
   "cell_type": "code",
   "execution_count": null,
   "source": "",
   "id": "490066ea",
   "outputs": []
  },
  {
   "metadata": {},
   "cell_type": "code",
   "execution_count": null,
   "source": "",
   "id": "9795cf42",
   "outputs": []
  },
  {
   "metadata": {},
   "cell_type": "code",
   "execution_count": null,
   "source": "",
   "id": "56514da5",
   "outputs": []
  },
  {
   "metadata": {},
   "cell_type": "code",
   "execution_count": 412,
   "source": [
    "import matplotlib.pyplot as plt\n",
    "from sklearn.inspection import DecisionBoundaryDisplay\n",
    "\n",
    "\n",
    "fig, ax = plt.subplots(figsize=(9, 5))\n",
    "disp = DecisionBoundaryDisplay.from_estimator(\n",
    "    pipe,\n",
    "    X_test,\n",
    "    response_method=\"predict\",\n",
    "    plot_method=\"pcolormesh\",\n",
    "    grid_resolution=1000,\n",
    "    xlabel='x1',\n",
    "    ylabel='x2',\n",
    "    shading=\"auto\",\n",
    "    alpha=0.3,\n",
    "    ax=ax,\n",
    ")\n",
    "scatter = disp.ax_.scatter(X[:, 0], X[:, 1], c=y, edgecolors=\"k\", marker='.')\n",
    "disp.ax_.legend(\n",
    "    scatter.legend_elements()[0],\n",
    "    [0, 1, 2],\n",
    "    loc=\"lower left\",\n",
    "    title=\"Classes\",\n",
    ")\n",
    "disp.ax_.set_title(\n",
    "    f\"3-Class classification\\n\"\n",
    ")\n",
    "\n",
    "fig.show()"
   ],
   "id": "c5591428",
   "outputs": []
  },
  {
   "metadata": {},
   "cell_type": "code",
   "execution_count": null,
   "source": "",
   "id": "31298485",
   "outputs": []
  },
  {
   "metadata": {},
   "cell_type": "code",
   "execution_count": 413,
   "source": "n_classes = 3",
   "id": "d0d8616d",
   "outputs": []
  },
  {
   "metadata": {},
   "cell_type": "code",
   "execution_count": 415,
   "source": [
    "coding_matrix_ova = np.array([\n",
    "    [ 1, -1, -1],\n",
    "    [-1,  1, -1],\n",
    "    [-1, -1,  1],\n",
    "])\n",
    "\n",
    "coding_matrix_ovo = np.array([\n",
    "    [ 0,  1,  1],\n",
    "    [ 1,  0, -1],\n",
    "    [-1, -1,  0],\n",
    "])\n",
    "\n",
    "coding_matrix_full = np.array([\n",
    "    [-1, -1, -1,  1,  1,  1],\n",
    "    [-1,  1,  1, -1, -1,  1],\n",
    "    [ 1, -1,  1, -1,  1, -1],\n",
    "])"
   ],
   "id": "cf9c75eb",
   "outputs": []
  },
  {
   "metadata": {},
   "cell_type": "code",
   "execution_count": 416,
   "source": [
    "def prepare_dataset(X, y, coding_design):\n",
    "    y_new = np.zeros_like(y)\n",
    "    dropped = np.zeros_like(y)\n",
    "    X_new = X.copy()\n",
    "    for class_label, is_included in enumerate(coding_design):\n",
    "        if is_included == 1:\n",
    "            y_new += (y == class_label).astype('int64')\n",
    "        elif is_included == -1:\n",
    "            pass\n",
    "        elif is_included == 0:\n",
    "            dropped += (y == class_label).astype('int64')\n",
    "    return X_new[dropped == 0], y_new[dropped == 0]\n",
    "        "
   ],
   "id": "b2f07dfd",
   "outputs": []
  },
  {
   "metadata": {},
   "cell_type": "code",
   "execution_count": 417,
   "source": "classifiers = []",
   "id": "27ec4afb",
   "outputs": []
  },
  {
   "metadata": {},
   "cell_type": "code",
   "execution_count": null,
   "source": "",
   "id": "5dcb2cf2",
   "outputs": []
  },
  {
   "metadata": {},
   "cell_type": "code",
   "execution_count": 418,
   "source": [
    "for column in range(coding_matrix_ova.shape[1]):\n",
    "    X_new_train, y_new_train = prepare_dataset(X_train, y_train, coding_matrix_ova[:, column])\n",
    "    pipe = Pipeline([\n",
    "        ('scale', StandardScaler()),\n",
    "        ('clf', LogisticRegression())\n",
    "    ])\n",
    "    \n",
    "    pipe.fit(X_new_train, y_new_train)\n",
    "    classifiers.append(pipe)"
   ],
   "id": "5f2de915",
   "outputs": []
  },
  {
   "metadata": {},
   "cell_type": "code",
   "execution_count": null,
   "source": "",
   "id": "904fdd83",
   "outputs": []
  },
  {
   "metadata": {},
   "cell_type": "code",
   "execution_count": 419,
   "source": "classifiers",
   "id": "e603d921",
   "outputs": []
  },
  {
   "metadata": {},
   "cell_type": "code",
   "execution_count": null,
   "source": "",
   "id": "a139842c",
   "outputs": []
  },
  {
   "metadata": {},
   "cell_type": "code",
   "execution_count": null,
   "source": "",
   "id": "5d1f9b88",
   "outputs": []
  },
  {
   "metadata": {},
   "cell_type": "code",
   "execution_count": 420,
   "source": [
    "scores = np.zeros(shape=(y_test.shape[0], n_classes))\n",
    "scores_weighted = np.zeros(shape=(y_test.shape[0], n_classes))\n",
    "\n",
    "for coding_number, learner in enumerate(classifiers):\n",
    "    scaled_probas = (2 * learner.predict_proba(X_test)[:, 0] - 1).reshape(-1, 1)\n",
    "    scores += scaled_probas * coding_matrix_ova[:, coding_number]\n",
    "    scores_weighted += (scaled_probas \n",
    "                        * coding_matrix_ova[:, coding_number] \n",
    "                        / np.abs(coding_matrix_ova[:, coding_number]))  \n",
    "    \n",
    "scores = scores.argmax(axis=1)\n",
    "scores_weighted = scores_weighted.argmax(axis=1)"
   ],
   "id": "0a4d336e",
   "outputs": []
  },
  {
   "metadata": {},
   "cell_type": "code",
   "execution_count": null,
   "source": "",
   "id": "654a7115",
   "outputs": []
  },
  {
   "metadata": {},
   "cell_type": "code",
   "execution_count": 421,
   "source": "scores",
   "id": "2c784559",
   "outputs": []
  },
  {
   "metadata": {},
   "cell_type": "code",
   "execution_count": null,
   "source": "",
   "id": "ad5b395c",
   "outputs": []
  },
  {
   "metadata": {},
   "cell_type": "code",
   "execution_count": null,
   "source": "",
   "id": "85bb1731",
   "outputs": []
  }
 ],
 "metadata": {
  "kernelspec": {
   "display_name": "Python 3 (ipykernel)",
   "language": "python",
   "name": "python3"
  },
  "language_info": {
   "codemirror_mode": {
    "name": "ipython",
    "version": 3
   },
   "file_extension": ".py",
   "mimetype": "text/x-python",
   "name": "python",
   "nbconvert_exporter": "python",
   "pygments_lexer": "ipython3",
   "version": "3.10.7"
  }
 },
 "nbformat": 4,
 "nbformat_minor": 5
}
